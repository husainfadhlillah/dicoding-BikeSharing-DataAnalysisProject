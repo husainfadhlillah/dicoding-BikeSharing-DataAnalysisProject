{
  "cells": [
    {
      "cell_type": "markdown",
      "metadata": {
        "id": "H9wADwK78DCz"
      },
      "source": [
        "# Proyek Analisis Data: **Bike Sharing Dataset**\n",
        "- **Nama:** Muhammad Husain Fadhlillah\n",
        "- **Email:** mc006d5y2343@student.devacademy.id\n",
        "- **ID Dicoding:** MC006D5Y2343"
      ]
    },
    {
      "cell_type": "markdown",
      "metadata": {
        "id": "eE0raob58DC0"
      },
      "source": [
        "## **Menentukan Pertanyaan Bisnis**"
      ]
    },
    {
      "cell_type": "markdown",
      "metadata": {
        "id": "GmQeQ5YF8DC0"
      },
      "source": [
        "- Pertanyaan 1: Bagaimana pola penggunaan sepeda (bike sharing) berdasarkan faktor waktu (jam, hari, bulan, musim) dan faktor cuaca?\n",
        "- Pertanyaan 2: Apa perbedaan karakteristik antara pengguna casual dan registered, dan bagaimana ini dapat mempengaruhi strategi bisnis?"
      ]
    },
    {
      "cell_type": "markdown",
      "metadata": {
        "id": "H-z4QGlO8DC1"
      },
      "source": [
        "## **Import Semua Packages/Library yang Digunakan**"
      ]
    },
    {
      "cell_type": "code",
      "execution_count": null,
      "metadata": {
        "id": "FVYwaObI8DC1"
      },
      "outputs": [],
      "source": [
        "import pandas as pd\n",
        "import numpy as np\n",
        "import matplotlib.pyplot as plt\n",
        "import seaborn as sns\n",
        "import plotly.express as px\n",
        "import plotly.graph_objects as go\n",
        "from sklearn.cluster import KMeans\n",
        "from sklearn.preprocessing import StandardScaler\n",
        "import calendar\n",
        "\n",
        "# Untuk visualisasi yang lebih baik\n",
        "sns.set_theme(style=\"whitegrid\")\n",
        "plt.rcParams['figure.figsize'] = (12, 6)\n",
        "sns.set_palette('viridis')"
      ]
    },
    {
      "cell_type": "markdown",
      "metadata": {
        "id": "h_Sh51Xy8DC1"
      },
      "source": [
        "## **Data Wrangling**"
      ]
    },
    {
      "cell_type": "markdown",
      "metadata": {
        "id": "sXU2GBYu8DC1"
      },
      "source": [
        "### **Gathering Data**"
      ]
    },
    {
      "cell_type": "code",
      "execution_count": null,
      "metadata": {
        "colab": {
          "base_uri": "https://localhost:8080/",
          "height": 275
        },
        "id": "zjCBk1BI8DC1",
        "outputId": "9b07f319-2aa4-49cd-9084-c4177a0e0adf"
      },
      "outputs": [],
      "source": [
        "# Load dataset\n",
        "hour_data = pd.read_csv('hour.csv')\n",
        "day_data = pd.read_csv('day.csv')\n",
        "\n",
        "# Cek struktur data\n",
        "print(\"Hour Data Shape:\", hour_data.shape)\n",
        "print(\"Day Data Shape:\", day_data.shape)\n",
        "\n",
        "print(\"\\nHour Data Preview:\")\n",
        "hour_data.head()"
      ]
    },
    {
      "cell_type": "markdown",
      "metadata": {
        "id": "MMi6xGaDkbCi"
      },
      "source": [
        "**Insight:**\n",
        "\n",
        "1. **Struktur Dataset**:\n",
        "   - Dataset hour memiliki 17.379 baris dan 17 kolom, menandakan pencatatan per jam selama periode tertentu\n",
        "   - Dataset day memiliki 731 baris dan 16 kolom, menunjukkan data harian selama kurang lebih 2 tahun\n",
        "\n",
        "2. **Informasi Waktu**:\n",
        "   - Data yang ditampilkan adalah dari tanggal 1 Januari 2011 pada jam 0-4 pagi\n",
        "   - Hari tersebut adalah weekday (nilai 6, kemungkinan Sabtu) dan bukan hari libur (holiday = 0)\n",
        "   - Data tercatat saat musim 1 (winter/musim dingin)\n",
        "\n",
        "3. **Pola Penggunaan Sepeda**:\n",
        "   - Jam 1 pagi (hr = 0) menunjukkan total 16 pengguna (cnt)\n",
        "   - Jam 2 pagi (hr = 1) menunjukkan lonjakan signifikan hingga 40 pengguna\n",
        "   - Penggunaan menurun setelahnya: 32, 13, dan hanya 1 pengguna di jam 5 pagi\n",
        "   - Ini mendukung kesimpulan bahwa pola penggunaan sepeda dipengaruhi oleh waktu\n",
        "\n",
        "4. **Karakteristik Pengguna**:\n",
        "   - Pengguna terdaftar (registered) mendominasi dibanding pengguna kasual (casual)\n",
        "   - Pada jam 1 pagi: 13 registered vs 3 casual\n",
        "   - Pada jam 2 pagi: 32 registered vs 8 casual\n",
        "   - Pada jam 3 pagi: 27 registered vs 5 casual\n",
        "   - Pada jam 4 pagi: 10 registered vs 3 casual\n",
        "   - Pada jam 5 pagi: 1 registered vs 0 casual\n",
        "   - Ini memperkuat kesimpulan bahwa pengguna registered mendominasi\n",
        "\n",
        "5. **Faktor Cuaca**:\n",
        "   - Suhu (temp) berkisar antara 0.22-0.24 (nilai normalisasi)\n",
        "   - Suhu yang dirasakan (atemp) sekitar 0.27-0.29\n",
        "   - Kelembaban (hum) berkisar 0.75-0.81\n",
        "   - Kecepatan angin (windspeed) konsisten 0.0\n",
        "   - Weathersit konsisten bernilai 1 (clear/partly cloudy)\n",
        "   - Kondisi cuaca yang baik mendukung penggunaan sepeda\n",
        "\n",
        "**Hubungan dengan Pertanyaan Bisnis:**\n",
        "- Pertanyaan 1: Data menunjukkan variasi penggunaan berdasarkan jam, meskipun pada malam/dini hari. Kondisi cuaca yang baik (weathersit=1) memungkinkan penggunaan sepeda bahkan di malam hari.\n",
        "- Pertanyaan 2: Proporsi pengguna registered jauh lebih tinggi daripada casual, mengonfirmasi kesimpulan bahwa pengguna registered mendominasi."
      ]
    },
    {
      "cell_type": "markdown",
      "metadata": {
        "id": "FHSiqaZp8DC1"
      },
      "source": [
        "### **Assessing Data**"
      ]
    },
    {
      "cell_type": "code",
      "execution_count": null,
      "metadata": {
        "colab": {
          "base_uri": "https://localhost:8080/"
        },
        "id": "ax-3tEjc9Cj1",
        "outputId": "40d8fe26-e2ad-4aa5-ff8e-3dd80662c218"
      },
      "outputs": [],
      "source": [
        "# Cek missing values\n",
        "print(\"Missing values in hour data:\")\n",
        "print(hour_data.isnull().sum())\n",
        "\n",
        "print(\"\\nMissing values in day data:\")\n",
        "print(day_data.isnull().sum())\n",
        "\n",
        "# Cek duplikasi data\n",
        "print(\"\\nDuplicates in hour data:\", hour_data.duplicated().sum())\n",
        "print(\"Duplicates in day data:\", day_data.duplicated().sum())\n",
        "\n",
        "# Cek nilai unik pada kolom kategorikal\n",
        "categorical_cols = ['season', 'yr', 'mnth', 'hr', 'holiday', 'weekday', 'workingday', 'weathersit']\n",
        "for col in categorical_cols:\n",
        "    print(f\"\\nUnique values in {col}: {hour_data[col].unique()}\")\n",
        "    print(f\"Count: {hour_data[col].nunique()}\")\n",
        "\n",
        "# Cek range tanggal\n",
        "print(\"\\nDate range in hour data:\")\n",
        "print(\"Min date:\", hour_data['dteday'].min())\n",
        "print(\"Max date:\", hour_data['dteday'].max())"
      ]
    },
    {
      "cell_type": "markdown",
      "metadata": {
        "id": "7dtxhAPrkhPL"
      },
      "source": [
        "**Insight:**\n",
        "\n",
        "1. **Kelengkapan dan Kualitas Data**:\n",
        "   - Tidak ada missing values pada kedua dataset (hour dan day)\n",
        "   - Tidak ditemukan data duplikat pada kedua dataset\n",
        "   - Hal ini menunjukkan kualitas data yang baik dan siap untuk dianalisis lebih lanjut\n",
        "\n",
        "2. **Rentang Waktu Dataset**:\n",
        "   - Dataset mencakup periode 2 tahun penuh: 1 Januari 2011 hingga 31 Desember 2012\n",
        "   - Rentang waktu yang cukup panjang memungkinkan analisis tren musiman dan tahunan yang komprehensif\n",
        "\n",
        "3. **Variabel Kategoris dan Dimensi Waktu**:\n",
        "   - **Season**: 4 nilai unik (1-4) menunjukkan empat musim dalam setahun\n",
        "   - **Year**: 2 nilai unik (0-1) menunjukkan data selama 2 tahun\n",
        "   - **Month**: 12 nilai unik (1-12) menunjukkan semua bulan dalam setahun\n",
        "   - **Hour**: 24 nilai unik (0-23) menunjukkan data lengkap untuk setiap jam dalam sehari\n",
        "   - Variabel waktu ini sangat relevan dengan Pertanyaan Bisnis 1 tentang pola penggunaan berdasarkan waktu\n",
        "\n",
        "4. **Variabel Status Hari**:\n",
        "   - **Holiday**: 2 nilai unik (0-1) menunjukkan hari libur dan non-libur\n",
        "   - **Weekday**: 7 nilai unik (0-6) menunjukkan semua hari dalam seminggu\n",
        "   - **Workingday**: 2 nilai unik (0-1) membedakan hari kerja dan akhir pekan/libur\n",
        "   - Variabel ini mendukung analisis perbedaan perilaku pengguna casual vs registered pada hari kerja vs akhir pekan (Pertanyaan Bisnis 2)\n",
        "\n",
        "5. **Kondisi Cuaca**:\n",
        "   - **Weathersit**: 4 nilai unik (1-4) menunjukkan variasi kondisi cuaca\n",
        "   - Variabel ini krusial untuk menganalisis pengaruh cuaca terhadap penggunaan sepeda (Pertanyaan Bisnis 1)\n",
        "\n",
        "**Hubungan dengan Pertanyaan Bisnis**:\n",
        "   - **Pertanyaan 1**: Dataset memiliki semua variabel waktu (jam, hari, bulan, musim) dan cuaca yang diperlukan untuk menganalisis pola penggunaan sepeda. Kelengkapan data (tidak ada missing values) memperkuat validitas kesimpulan bahwa pola penggunaan dipengaruhi oleh waktu dan cuaca.\n",
        "   \n",
        "   - **Pertanyaan 2**: Ketersediaan variabel seperti workingday, weekday, dan holiday memungkinkan analisis mendalam tentang perbedaan perilaku antara pengguna casual dan registered di hari kerja versus akhir pekan. Kesimpulan bahwa \"pengguna casual lebih aktif di akhir pekan\" dapat divalidasi dengan membandingkan proporsi pengguna pada nilai workingday=0 (akhir pekan/libur) dan workingday=1 (hari kerja)."
      ]
    },
    {
      "cell_type": "markdown",
      "metadata": {
        "id": "EhN5R4hr8DC1"
      },
      "source": [
        "### **Cleaning Data**"
      ]
    },
    {
      "cell_type": "code",
      "execution_count": null,
      "metadata": {
        "id": "jVnYpprE9Evz"
      },
      "outputs": [],
      "source": [
        "# 1. Ubah tipe data kolom datetime\n",
        "import os\n",
        "hour_data['dteday'] = pd.to_datetime(hour_data['dteday'])\n",
        "day_data['dteday'] = pd.to_datetime(day_data['dteday'])\n",
        "\n",
        "# 2. Mapping kolom kategorikal\n",
        "season_map = {1: 'Spring', 2: 'Summer', 3: 'Fall', 4: 'Winter'}\n",
        "hour_data['season_name'] = hour_data['season'].map(season_map)\n",
        "day_data['season_name'] = day_data['season'].map(season_map)\n",
        "\n",
        "year_map = {0: '2011', 1: '2012'}\n",
        "hour_data['year'] = hour_data['yr'].map(year_map)\n",
        "day_data['year'] = day_data['yr'].map(year_map)\n",
        "\n",
        "month_map = {i: calendar.month_name[i] for i in range(1, 13)}\n",
        "hour_data['month_name'] = hour_data['mnth'].map(month_map)\n",
        "day_data['month_name'] = day_data['mnth'].map(month_map)\n",
        "\n",
        "weekday_map = {0: 'Sunday', 1: 'Monday', 2: 'Tuesday', 3: 'Wednesday', 4: 'Thursday', 5: 'Friday', 6: 'Saturday'}\n",
        "hour_data['weekday_name'] = hour_data['weekday'].map(weekday_map)\n",
        "day_data['weekday_name'] = day_data['weekday'].map(weekday_map)\n",
        "\n",
        "weather_map = {\n",
        "    1: 'Clear/Few clouds',\n",
        "    2: 'Mist/Cloudy',\n",
        "    3: 'Light Snow/Rain',\n",
        "    4: 'Heavy Rain/Snow/Fog'\n",
        "}\n",
        "hour_data['weather_condition'] = hour_data['weathersit'].map(weather_map)\n",
        "day_data['weather_condition'] = day_data['weathersit'].map(weather_map)\n",
        "\n",
        "# 3. Denormalisasi suhu, kelembaban, dan kecepatan angin\n",
        "hour_data['temp_actual'] = hour_data['temp'] * (39 - (-8)) + (-8)\n",
        "day_data['temp_actual'] = day_data['temp'] * (39 - (-8)) + (-8)\n",
        "\n",
        "hour_data['atemp_actual'] = hour_data['atemp'] * (50 - (-16)) + (-16)\n",
        "day_data['atemp_actual'] = day_data['atemp'] * (50 - (-16)) + (-16)\n",
        "\n",
        "hour_data['hum_actual'] = hour_data['hum'] * 100\n",
        "day_data['hum_actual'] = day_data['hum'] * 100\n",
        "\n",
        "hour_data['windspeed_actual'] = hour_data['windspeed'] * 67\n",
        "day_data['windspeed_actual'] = day_data['windspeed'] * 67\n",
        "\n",
        "# 4. Tambahkan kolom total pengguna dan proporsi\n",
        "hour_data['total_users'] = hour_data['casual'] + hour_data['registered']\n",
        "day_data['total_users'] = day_data['casual'] + day_data['registered']\n",
        "\n",
        "hour_data['casual_proportion'] = hour_data['casual'] / hour_data['total_users'] * 100\n",
        "hour_data['registered_proportion'] = hour_data['registered'] / hour_data['total_users'] * 100\n",
        "\n",
        "day_data['casual_proportion'] = day_data['casual'] / day_data['total_users'] * 100\n",
        "day_data['registered_proportion'] = day_data['registered'] / day_data['total_users'] * 100\n",
        "\n",
        "os.makedirs('dashboard', exist_ok=True)\n",
        "\n",
        "# Simpan data bersih\n",
        "hour_data.to_csv('dashboard/hour_data_clean.csv', index=False)\n",
        "day_data.to_csv('dashboard/day_data_clean.csv', index=False)"
      ]
    },
    {
      "cell_type": "markdown",
      "metadata": {
        "id": "Q_5ejIqckiSP"
      },
      "source": [
        "**Insight:**\n",
        "\n",
        "1. **Transformasi Tipe Data Datetime**:\n",
        "   - Data tanggal diubah ke format datetime standar menggunakan pd.to_datetime()\n",
        "   - Ini memudahkan analisis deret waktu untuk mengidentifikasi pola penggunaan sepeda berdasarkan waktu\n",
        "\n",
        "2. **Peningkatan Interpretabilitas Data Kategori**:\n",
        "   - Kolom kategori numerik dikonversi menjadi label deskriptif:\n",
        "     - Musim: 1-4 → Spring, Summer, Fall, Winter\n",
        "     - Tahun: 0-1 → 2011, 2012\n",
        "     - Bulan: 1-12 → January-December\n",
        "     - Hari: 0-6 → Sunday-Saturday\n",
        "     - Cuaca: 1-4 → Clear/Few clouds, Mist/Cloudy, Light Snow/Rain, Heavy Rain/Snow/Fog\n",
        "   - Transformasi ini memudahkan pemahaman pola penggunaan sepeda berdasarkan faktor waktu dan cuaca\n",
        "\n",
        "3. **Denormalisasi Data Cuaca**:\n",
        "   - Suhu: dikonversi dari range 0-1 ke nilai aktual (-8°C hingga 39°C)\n",
        "   - Suhu yang dirasakan: dikonversi ke range -16°C hingga 50°C\n",
        "   - Kelembaban: dikonversi ke persentase (0-100%)\n",
        "   - Kecepatan angin: dikonversi ke nilai aktual (0-67 km/h)\n",
        "   - Denormalisasi ini memungkinkan interpretasi yang lebih intuitif tentang pengaruh cuaca terhadap pola penggunaan\n",
        "\n",
        "4. **Perhitungan Proporsi Pengguna**:\n",
        "   - Ditambahkan kolom proporsi pengguna casual dan registered (dalam persentase)\n",
        "   - Ini memungkinkan analisis perbandingan distribusi kedua jenis pengguna tanpa terpengaruh oleh perbedaan jumlah absolut\n",
        "\n",
        "5. **Validasi Total Pengguna**:\n",
        "   - Penambahan kolom total_users sebagai jumlah dari pengguna casual dan registered\n",
        "   - Ini menyediakan cross-check untuk memastikan konsistensi data\n",
        "\n",
        "**Hubungan dengan Pertanyaan Bisnis**:\n",
        "   - **Pertanyaan 1**: Transformasi data waktu (musim, bulan, hari, jam) dan cuaca memberikan dasar yang kuat untuk menganalisis pola penggunaan sepeda berdasarkan kedua faktor tersebut. Denormalisasi variabel cuaca memungkinkan analisis yang lebih mendalam tentang kondisi spesifik yang mempengaruhi penggunaan sepeda.\n",
        "   \n",
        "   - **Pertanyaan 2**: Perhitungan proporsi pengguna casual vs registered memberi perspektif yang lebih jelas tentang perbedaan karakteristik kedua kelompok ini. Kombinasi data proporsi dengan label hari dalam seminggu (weekday_name) akan sangat membantu dalam memvalidasi kesimpulan bahwa pengguna casual lebih aktif di akhir pekan."
      ]
    },
    {
      "cell_type": "markdown",
      "metadata": {
        "id": "gp-Y6wU38DC1"
      },
      "source": [
        "## **Exploratory Data Analysis (EDA)**"
      ]
    },
    {
      "cell_type": "markdown",
      "metadata": {
        "id": "MW7WF2kr8DC1"
      },
      "source": [
        "### Analisis Pola Waktu"
      ]
    },
    {
      "cell_type": "code",
      "execution_count": null,
      "metadata": {
        "colab": {
          "base_uri": "https://localhost:8080/",
          "height": 701
        },
        "id": "e9CQCZjk8DC2",
        "outputId": "646659ac-b836-4683-d90a-d3965b1910b8"
      },
      "outputs": [],
      "source": [
        "# Pola penggunaan sepeda berdasarkan jam\n",
        "hourly_pattern = hour_data.groupby('hr')['cnt'].mean().reset_index()\n",
        "\n",
        "plt.figure(figsize=(14, 7))\n",
        "sns.lineplot(x='hr', y='cnt', data=hourly_pattern, marker='o', linewidth=2)\n",
        "plt.title('Rata-rata Penyewaan Sepeda berdasarkan Jam', fontsize=15)\n",
        "plt.xlabel('Jam', fontsize=12)\n",
        "plt.ylabel('Rata-rata Jumlah Penyewaan', fontsize=12)\n",
        "plt.xticks(range(0, 24))\n",
        "plt.grid(True, alpha=0.3)\n",
        "plt.tight_layout()\n",
        "plt.show()"
      ]
    },
    {
      "cell_type": "markdown",
      "metadata": {
        "id": "th_Lzl2Fkj9O"
      },
      "source": [
        "**Insight:**\n",
        "\n",
        "1. **Pola Bi-modal yang Jelas**:\n",
        "   - Terdapat dua puncak utama penggunaan: pagi (jam 8) dan sore/malam (jam 17-18)\n",
        "   - Puncak tertinggi terjadi pada jam 17-18 (sekitar 450 penyewaan)\n",
        "   - Puncak kedua terjadi pada jam 8 pagi (sekitar 350 penyewaan)\n",
        "   - Pola ini menunjukkan korelasi kuat dengan jam berangkat dan pulang kerja/sekolah\n",
        "\n",
        "2. **Periode Penggunaan Terendah**:\n",
        "   - Penggunaan paling rendah terjadi pada dini hari (jam 3-4) dengan kurang dari 10 penyewaan\n",
        "   - Penurunan signifikan terlihat setelah jam 19 hingga mencapai titik terendah pada jam 3-4\n",
        "   - Jam 23 masih menunjukkan angka penyewaan sekitar 90 unit\n",
        "\n",
        "3. **Pola Penggunaan Siang Hari**:\n",
        "   - Setelah puncak pagi (jam 8), terjadi penurunan hingga jam 10 (sekitar 175 penyewaan)\n",
        "   - Dari jam 10 hingga 15, penggunaan relatif stabil di kisaran 240-260 penyewaan\n",
        "   - Mulai jam 15, terjadi kenaikan tajam hingga mencapai puncak di jam 17-18\n",
        "\n",
        "4. **Transisi Antar Periode**:\n",
        "   - Peningkatan tajam terjadi antara jam 5-8 pagi (dari 20 menjadi 350 penyewaan)\n",
        "   - Periode 10-15 relatif stabil sebagai \"plateau\" di tengah hari\n",
        "   - Peningkatan signifikan terlihat lagi pada jam 15-17\n",
        "   - Penurunan gradual dari jam 18-23 menunjukkan pengurangan aktivitas malam hari"
      ]
    },
    {
      "cell_type": "markdown",
      "metadata": {
        "id": "Y6oJVG9EoPum"
      },
      "source": [
        "### Analisis Pengaruh Cuaca"
      ]
    },
    {
      "cell_type": "code",
      "execution_count": null,
      "metadata": {
        "colab": {
          "base_uri": "https://localhost:8080/",
          "height": 788
        },
        "id": "yBIjx3-BoQ69",
        "outputId": "49686606-5a22-4400-c843-1a78f747b4f0"
      },
      "outputs": [],
      "source": [
        "# Pengaruh kondisi cuaca\n",
        "weather_impact = hour_data.groupby('weather_condition')['cnt'].mean().reset_index()\n",
        "\n",
        "plt.figure(figsize=(14, 7))\n",
        "sns.barplot(x='weather_condition', y='cnt', data=weather_impact, palette='viridis')\n",
        "plt.title('Rata-rata Penyewaan Sepeda berdasarkan Kondisi Cuaca', fontsize=15)\n",
        "plt.xlabel('Kondisi Cuaca', fontsize=12)\n",
        "plt.ylabel('Rata-rata Jumlah Penyewaan', fontsize=12)\n",
        "plt.grid(True, alpha=0.3)\n",
        "plt.tight_layout()\n",
        "plt.show()"
      ]
    },
    {
      "cell_type": "markdown",
      "metadata": {
        "id": "4g414CusoS9S"
      },
      "source": [
        "**Insight:**\n",
        "\n",
        "1. **Pengaruh Signifikan Kondisi Cuaca**:\n",
        "   - Terdapat variasi yang jelas dalam rata-rata penyewaan sepeda di berbagai kondisi cuaca\n",
        "   - Kondisi \"Clear/Few clouds\" memiliki rata-rata penyewaan tertinggi (sekitar 205 unit)\n",
        "   - Kondisi \"Heavy Rain/Snow/Fog\" menunjukkan penyewaan terendah (sekitar 75 unit)\n",
        "   - Hal ini mengkonfirmasi bahwa cuaca menjadi faktor penentu dalam keputusan pengguna\n",
        "\n",
        "2. **Urutan Preferensi Kondisi Cuaca**:\n",
        "   - Dari paling disukai ke paling dihindari: Clear/Few clouds > Mist/Cloudy > Light Snow/Rain > Heavy Rain/Snow/Fog\n",
        "   - Perbedaan antara kondisi terbaik dan terburuk sangat signifikan (hampir 3 kali lipat)\n",
        "   - Pengguna masih cukup aktif pada kondisi Mist/Cloudy (sekitar 175 unit)\n",
        "\n",
        "3. **Toleransi terhadap Kondisi Cuaca**:\n",
        "   - Pengguna cenderung toleran terhadap kondisi berawan (Mist/Cloudy) dengan perbedaan tidak terlalu jauh dari kondisi cerah\n",
        "   - Hujan/salju ringan (Light Snow/Rain) menyebabkan penurunan moderat (sekitar 110 unit)\n",
        "   - Kondisi cuaca ekstrem (Heavy Rain/Snow/Fog) memberikan efek penghambat paling kuat\n",
        "\n",
        "4. **Implikasi Operasional**:\n",
        "   - Perbedaan penyewaan antara kondisi terbaik dan terburuk hampir 130 unit (63% penurunan)\n",
        "   - Cuaca menjadi faktor risiko yang signifikan dalam prediksi permintaan sepeda"
      ]
    },
    {
      "cell_type": "markdown",
      "metadata": {
        "id": "zsyZjqak8DC2"
      },
      "source": [
        "## **Visualization & Explanatory Analysis**"
      ]
    },
    {
      "cell_type": "markdown",
      "metadata": {
        "id": "HZxOiQ6n8DC2"
      },
      "source": [
        "## Pertanyaan 1: Pola Penggunaan Sepeda"
      ]
    },
    {
      "cell_type": "code",
      "execution_count": null,
      "metadata": {
        "colab": {
          "base_uri": "https://localhost:8080/",
          "height": 1000
        },
        "id": "1swJUdAD8DC2",
        "outputId": "88ccb093-20c6-4b98-b8dc-760d43a57952"
      },
      "outputs": [],
      "source": [
        "# Heatmap jam vs hari\n",
        "hour_weekday_heatmap = hour_data.pivot_table(index='hr', columns='weekday_name', values='cnt', aggfunc='mean')\n",
        "hour_weekday_heatmap = hour_weekday_heatmap.reindex(columns=['Monday', 'Tuesday', 'Wednesday', 'Thursday', 'Friday', 'Saturday', 'Sunday'])\n",
        "\n",
        "plt.figure(figsize=(16, 10))\n",
        "sns.heatmap(hour_weekday_heatmap, cmap='viridis', annot=False, fmt='.0f', cbar_kws={'label': 'Rata-rata Penyewaan'})\n",
        "plt.title('Heatmap Penyewaan Sepeda: Jam vs Hari', fontsize=16)\n",
        "plt.xlabel('Hari', fontsize=12)\n",
        "plt.ylabel('Jam', fontsize=12)\n",
        "plt.tight_layout()\n",
        "plt.show()"
      ]
    },
    {
      "cell_type": "markdown",
      "metadata": {
        "id": "F9BFyjS81TIt"
      },
      "source": [
        "**Insight:**\n",
        "\n",
        "1. **Pola Jam Sibuk pada Hari Kerja**\n",
        "   - Terdapat 2 peak hours yang jelas pada hari Senin-Jumat: pukul 8 pagi dan sekitar pukul 17-18 (jam pulang kerja)\n",
        "   - Pola ini menunjukkan bahwa sepeda banyak digunakan untuk commuting (perjalanan ke/dari tempat kerja)\n",
        "\n",
        "2. **Perbedaan Pola Weekday vs Weekend**\n",
        "   - Hari kerja (Senin-Jumat) memiliki pola penggunaan yang berbentuk \"twin peaks\" (pagi dan sore)\n",
        "   - Akhir pekan (Sabtu-Minggu) memiliki distribusi yang lebih merata sepanjang siang hingga sore hari\n",
        "\n",
        "3. **Penggunaan pada Malam Hari**\n",
        "   - Terjadi penurunan signifikan penggunaan sepeda mulai pukul 22.00 hingga 05.00 pagi di semua hari\n",
        "   - Area berwarna ungu gelap menunjukkan penggunaan paling rendah pada dini hari\n",
        "\n",
        "4. **Peak Penggunaan pada Akhir Pekan**\n",
        "   - Pukul 11.00-18.00 pada Sabtu-Minggu memiliki tingkat penyewaan yang tinggi (warna hijau-kuning)\n",
        "   - Menunjukkan penggunaan lebih untuk rekreasi dibandingkan commuting\n",
        "\n",
        "5. **Hari dengan Penggunaan Tertinggi**\n",
        "   - Hari kerja pada jam sibuk (terutama sore hari) dan hari Sabtu siang menunjukkan puncak penyewaan tertinggi (warna kuning/hijau terang)\n",
        "\n",
        "6. **Gradasi Penggunaan Berdasarkan Waktu**\n",
        "   - Penggunaan meningkat secara bertahap dari pagi hari, mencapai puncak di sore hari, dan menurun di malam hari"
      ]
    },
    {
      "cell_type": "markdown",
      "metadata": {
        "id": "DgHI7CiU8DC2"
      },
      "source": [
        "### Pertanyaan 2: Perbedaan Pengguna Casual dan Registered"
      ]
    },
    {
      "cell_type": "code",
      "execution_count": null,
      "metadata": {
        "colab": {
          "base_uri": "https://localhost:8080/",
          "height": 801
        },
        "id": "Go0lCsvO8DC2",
        "outputId": "3ad54930-9d85-4331-ade7-b44e5879a826"
      },
      "outputs": [],
      "source": [
        "# Perbandingan pengguna casual vs registered\n",
        "total_users = day_data[['casual', 'registered']].sum()\n",
        "labels = ['Casual', 'Registered']\n",
        "\n",
        "plt.figure(figsize=(10, 8))\n",
        "plt.pie(total_users, labels=labels, autopct='%1.1f%%', startangle=90, colors=['#ff9999', '#66b3ff'])\n",
        "plt.title('Proporsi Pengguna Casual vs Registered', fontsize=15)\n",
        "plt.axis('equal')\n",
        "plt.tight_layout()\n",
        "plt.show()"
      ]
    },
    {
      "cell_type": "markdown",
      "metadata": {
        "id": "_0-36BDLklRg"
      },
      "source": [
        "**Insight:**\n",
        "\n",
        "1. **Dominasi Pengguna Registered**\n",
        "   - Pengguna registered mendominasi dengan proporsi 81,2% dari total penyewaan sepeda\n",
        "   - Hanya 18,8% penyewaan dilakukan oleh pengguna casual\n",
        "   - Perbandingan ini menunjukkan rasio sekitar 4:1 antara pengguna registered dan casual\n",
        "\n",
        "2. **Pangsa Pasar yang Tidak Seimbang**\n",
        "   - Terdapat kesenjangan yang sangat besar antara kedua jenis pengguna\n",
        "   - Pengguna registered menghasilkan lebih dari 4/5 dari total transaksi penyewaan\n",
        "\n",
        "3. **Indikasi Loyalitas Pelanggan**\n",
        "   - Tingginya persentase pengguna registered menunjukkan keberhasilan dalam membangun basis pelanggan tetap\n",
        "   - Mengindikasikan bahwa mayoritas pengguna adalah pelanggan berulang yang memiliki komitmen jangka panjang\n",
        "\n",
        "4. **Potensi Pertumbuhan dari Pengguna Casual**\n",
        "   - Segmen pengguna casual (18,8%) mewakili peluang konversi untuk meningkatkan basis pengguna registered\n",
        "   - Meskipun kecil, segmen ini penting sebagai pintu masuk pengguna baru ke dalam sistem\n",
        "\n",
        "5. **Stabilitas Pendapatan**\n",
        "   - Dominasi pengguna registered menunjukkan basis pendapatan yang lebih stabil dan dapat diprediksi\n",
        "   - Layanan memiliki arus pendapatan yang lebih terjamin dari basis pelanggan tetap"
      ]
    },
    {
      "cell_type": "markdown",
      "metadata": {
        "id": "9y4VUsmcYNZ5"
      },
      "source": [
        "## **Analisis Lanjutan (Opsional)**"
      ]
    },
    {
      "cell_type": "code",
      "execution_count": null,
      "metadata": {
        "colab": {
          "base_uri": "https://localhost:8080/",
          "height": 601
        },
        "id": "iWhnzsJGYUCO",
        "outputId": "3ad6792d-bd4d-4f78-bb06-6e10130ec4cf"
      },
      "outputs": [],
      "source": [
        "# Clustering berdasarkan pola penggunaan\n",
        "X = hour_data[['hr', 'cnt']]\n",
        "scaler = StandardScaler()\n",
        "X_scaled = scaler.fit_transform(X)\n",
        "\n",
        "kmeans = KMeans(n_clusters=3)\n",
        "hour_data['cluster'] = kmeans.fit_predict(X_scaled)\n",
        "\n",
        "plt.figure(figsize=(12, 6))\n",
        "sns.scatterplot(x='hr', y='cnt', hue='cluster', data=hour_data, palette='viridis')\n",
        "plt.title('Clustering Pola Penggunaan Sepeda', fontsize=15)\n",
        "plt.xlabel('Jam', fontsize=12)\n",
        "plt.ylabel('Jumlah Penyewaan', fontsize=12)\n",
        "plt.tight_layout()\n",
        "plt.show()"
      ]
    },
    {
      "cell_type": "markdown",
      "metadata": {
        "id": "Qpf_N1ku2oY-"
      },
      "source": [
        "**Insight:**\n",
        "\n",
        "1. **Identifikasi 3 Cluster Penggunaan yang Berbeda**\n",
        "   - Cluster 0 (warna ungu): Penggunaan menengah, dominan pada malam hari (jam 11-23)\n",
        "   - Cluster 1 (warna hijau): Penggunaan tinggi, dominan pada jam sibuk (terutama jam 7-9 dan 16-19)\n",
        "   - Cluster 2 (warna kuning): Penggunaan rendah, dominan pada dini hari (jam 0-5)\n",
        "\n",
        "2. **Pola Jam Sibuk yang Jelas**\n",
        "   - Konsentrasi tertinggi penyewaan (500-980 unit) terjadi pada jam 7-9 dan 16-19\n",
        "   - Cluster 1 (hijau) mencapai puncak hampir 1000 penyewaan pada jam 17-18\n",
        "   - Pola ini menunjukkan hubungan kuat dengan jam berangkat dan pulang kerja\n",
        "\n",
        "3. **Penggunaan di Waktu Malam**\n",
        "   - Penurunan bertahap dari jam 19-23 dengan range 250-600 penyewaan\n",
        "   - Cluster 0 (ungu) mendominasi periode malam dengan jumlah penyewaan menengah\n",
        "   - Relatif stabil dibandingkan fluktuasi pada jam kerja\n",
        "\n",
        "4. **Penggunaan Sangat Rendah di Dini Hari**\n",
        "   - Cluster 2 (kuning) menunjukkan aktivitas paling rendah pada jam 0-5 (<300 penyewaan)\n",
        "   - Memperlihatkan periode \"idle\" yang signifikan dalam sistem penyewaan\n",
        "\n",
        "5. **Transisi Antar Periode**\n",
        "   - Terjadi transisi cluster yang jelas: kuning → hijau (pagi), hijau → ungu (malam)\n",
        "   - Jam 6-7 dan 19-20 menunjukkan periode transisi dimana terjadi pergeseran pola penggunaan\n",
        "\n",
        "6. **Variasi dalam Cluster**\n",
        "   - Cluster 1 (hijau) menunjukkan variasi vertikal paling tinggi, menandakan fluktuasi besar dalam volume penyewaan pada jam sibuk\n",
        "   - Faktor eksternal (cuaca, hari kerja vs akhir pekan) kemungkinan mempengaruhi variasi ini"
      ]
    },
    {
      "cell_type": "markdown",
      "metadata": {
        "id": "_WeHlCeX8DC2"
      },
      "source": [
        "## **Conclusion**"
      ]
    },
    {
      "cell_type": "markdown",
      "metadata": {
        "id": "ZTcyR48Y8DC2"
      },
      "source": [
        "- Kesimpulan Pertanyaan 1: Pola penggunaan sepeda dipengaruhi oleh waktu dan cuaca.\n",
        "- Kesimpulan Pertanyaan 2: Pengguna registered mendominasi, sedangkan casual lebih aktif di akhir pekan."
      ]
    }
  ],
  "metadata": {
    "accelerator": "GPU",
    "colab": {
      "gpuType": "T4",
      "provenance": []
    },
    "kernelspec": {
      "display_name": "base",
      "language": "python",
      "name": "python3"
    },
    "language_info": {
      "codemirror_mode": {
        "name": "ipython",
        "version": 3
      },
      "file_extension": ".py",
      "mimetype": "text/x-python",
      "name": "python",
      "nbconvert_exporter": "python",
      "pygments_lexer": "ipython3",
      "version": "3.10.9"
    },
    "orig_nbformat": 4
  },
  "nbformat": 4,
  "nbformat_minor": 0
}
